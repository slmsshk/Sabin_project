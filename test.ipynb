{
 "cells": [
  {
   "cell_type": "code",
   "execution_count": 1,
   "metadata": {},
   "outputs": [],
   "source": [
    "import requests\n",
    "\n",
    "from bs4 import BeautifulSoup\n",
    "\n",
    "def scrape_job_description(url):\n",
    "    response = requests.get(url)\n",
    "    soup = BeautifulSoup(response.text, 'html.parser')\n",
    "    job_description = soup.find('section', id='postingbody').get_text().strip()\n",
    "    return job_description"
   ]
  },
  {
   "cell_type": "code",
   "execution_count": null,
   "metadata": {},
   "outputs": [],
   "source": []
  },
  {
   "cell_type": "code",
   "execution_count": 20,
   "metadata": {},
   "outputs": [],
   "source": [
    "# scrape_job_description('from bs4 import BeautifulSoup')"
   ]
  },
  {
   "cell_type": "code",
   "execution_count": 14,
   "metadata": {},
   "outputs": [],
   "source": [
    "def convert_webp_to_png(webp_bytes):\n",
    "    # Open the WebP image using PIL\n",
    "    webp_image = Image.open(io.BytesIO(webp_bytes))\n",
    "    \n",
    "    # Convert the image to PNG format\n",
    "    png_image = webp_image.convert(\"RGBA\")\n",
    "    \n",
    "    # Create an in-memory stream to hold the PNG image data\n",
    "    png_bytes_io = io.BytesIO()\n",
    "    \n",
    "    # Save the PNG image to the in-memory stream\n",
    "    png_image.save(png_bytes_io, format='PNG')\n",
    "    \n",
    "    # Get the PNG image data as bytes\n",
    "    png_bytes = png_bytes_io.getvalue()\n",
    "    \n",
    "    return png_bytes"
   ]
  },
  {
   "cell_type": "code",
   "execution_count": 1,
   "metadata": {},
   "outputs": [],
   "source": [
    "from fun import *"
   ]
  },
  {
   "cell_type": "code",
   "execution_count": 2,
   "metadata": {},
   "outputs": [],
   "source": [
    "download_image('https://chicago.craigslist.org/nwc/reb/7737439112.html','temp.jpg')"
   ]
  },
  {
   "cell_type": "code",
   "execution_count": 2,
   "metadata": {},
   "outputs": [],
   "source": [
    "download_image(\"https://images.craigslist.org/00W0W_hbrVkg8yUxR_0iA0cV_1200x900.jpg\")"
   ]
  },
  {
   "cell_type": "code",
   "execution_count": 17,
   "metadata": {},
   "outputs": [],
   "source": [
    "from PIL import Image\n",
    "\n",
    "def convert_webp_to_png(webp_path, png_path):\n",
    "    # Open the WebP image using PIL\n",
    "    webp_image = Image.open(webp_path)\n",
    "    \n",
    "    # Convert the image to PNG format\n",
    "    png_image = webp_image.convert(\"RGBA\")\n",
    "    \n",
    "    # Save the PNG image\n",
    "    png_image.save(png_path, format='PNG')"
   ]
  },
  {
   "cell_type": "code",
   "execution_count": 18,
   "metadata": {},
   "outputs": [],
   "source": [
    "webp_path = 'smiley_else_url.webp'\n",
    "png_path = 'smiley_else_url.png'\n",
    "convert_webp_to_png(webp_path, png_path)"
   ]
  },
  {
   "cell_type": "code",
   "execution_count": null,
   "metadata": {},
   "outputs": [],
   "source": [
    "png_image.save(png_path, format='PNG')\n"
   ]
  },
  {
   "cell_type": "code",
   "execution_count": 35,
   "metadata": {},
   "outputs": [],
   "source": [
    "def llm(api,listing):\n",
    "\n",
    "    client = OpenAI(api_key=api)\n",
    "\n",
    "    completion = client.chat.completions.create(\n",
    "    model=\"gpt-3.5-turbo\",\n",
    "    messages=[\n",
    "        {\"role\": \"system\", \"content\": \"\"\"You are a Craigslist Listing Classifier. Your task is to evaluate whether a given listing description is Genuine or Fake. and explain the reason\n",
    "         \n",
    "\n",
    "A genuine listing typically contains accurate and detailed information about the property or item being advertised. It may include specific features, amenities, and location details, and is written in a professional and descriptive manner.\n",
    "\n",
    "A fake listing, on the other hand, may exhibit one or more of the following characteristics:\n",
    "- Unrealistic promises or claims (e.g., extremely low price, guaranteed returns)\n",
    "- Lack of specific details or amenities\n",
    "- High-pressure sales tactics (e.g., urgency, limited availability)\n",
    "- Use of generic language or clichés\n",
    "- Inconsistent or contradictory information\n",
    "\n",
    "Your job is to analyze the provided listing description and determine whether it is likely to be genuine or fake. Return True if the listing is genuine and Fake otherwise.\n",
    "\n",
    "Here's an example of a listing description:\n",
    "\"5 bed, 4 bath\n",
    "Hard to Find! Luxurious 5-Bedroom Retreat with Massive Pool and Entertainment Haven in Fox Lake. ***This is an approved AirBnB property through Fox Lake. The seller will help with the process of transferring ownership through the right channels with Fox Lake if desired*** Welcome to your dream home. Experience the epitome of luxury living in this exquisite 5-bedroom, 5-bath retreat that boasts an impressive array of amenities designed to create an unforgettable lifestyle. Property Highlights: 1. Pool & Outdoor Oasis. 2. Screened-In Bar & Entertainment Space: Entertain in style with the screened-in bar area, ideal for hosting gatherings with refreshments and appetizers while basking in the fresh air and lush surroundings. 3. Expansive Game & Theater Room. 4. Gourmet Kitchen with Pool View: The chef-inspired kitchen is a true masterpiece, boasting high-end appliances, granite countertops, and a seamless flow to the pool area, making it an entertainer's delight. 5. Luxurious Bedrooms & En-Suite Bathrooms. 6. Lakeside Proximity: While not directly on the water, this home is near proximity to the enchanting Fox Lake, where you can access public beaches, water activities, and enjoy the serene beauty of the waterfront. 7. Convenient Access to Local Attractions: Discover the best of Fox Lake's attractions, from nature reserves and golf courses to charming downtown shops and restaurants, all just a short distance away. 8. Impeccable Design & Quality: This home showcases meticulous attention to detail, with modern finishes, high ceilings, and an open-concept layout that accentuates space and natural light. 9. Privacy & Tranquility: Nestled in a charming neighborhood, this property offers a serene and private setting, allowing you to escape the hustle and bustle of everyday life. Schedule a showing today and see all that this stunning property has to offer!\"\n",
    " \n",
    "Based on this prompt, evaluate whether the provided listing description is likely to be genuine or fake.\n",
    "\"\"\"},\n",
    "        {\"role\": \"user\", \"content\": listing}\n",
    "    \n",
    "    ]\n",
    "    )\n",
    "\n",
    "    return completion.choices[0].message.content\n"
   ]
  },
  {
   "cell_type": "code",
   "execution_count": 41,
   "metadata": {},
   "outputs": [],
   "source": [
    "api = \"\"\n",
    "listing = \"Rare Opportunity! Cozy 2-Bedroom Cottage with Spectacular Views and Exclusive Beach Access in Desirable Paradise Cove. ***This property is a steal at this price! Act fast before it's gone!*** This charming cottage offers a unique blend of old-world charm and modern convenience. Property Highlights: 1. Private Beachfront Access: Enjoy direct access to a secluded beach, perfect for relaxing and soaking up the sun. 2. Panoramic Ocean Views: Wake up to breathtaking views of the ocean from your bedroom window or sip cocktails on the spacious deck while watching the sunset. 3. Renovated Kitchenette: The compact kitchenette is equipped with basic appliances and offers a cozy space for preparing simple meals. 4. Compact Living Area: The cozy living area features a fold-out sofa bed and a small dining table, ideal for intimate gatherings or quiet evenings in. 5. Shared Bathroom: The shared bathroom includes a basic shower, toilet, and sink. 6. Limited Parking: Please note that parking is limited and may be challenging during peak seasons. 7. Remote Location: This property is located in a remote area, away from the hustle and bustle of city life, offering peace and tranquility. 8. Affordable Pricing: Take advantage of this rare opportunity to own a piece of paradise at an unbeatable price. Don't miss out on this incredible investment opportunity! Schedule a viewing today!\"\n"
   ]
  },
  {
   "cell_type": "code",
   "execution_count": 37,
   "metadata": {},
   "outputs": [],
   "source": [
    "from openai import OpenAI\n",
    "answer = llm(api,listing)#.content"
   ]
  },
  {
   "cell_type": "code",
   "execution_count": 40,
   "metadata": {},
   "outputs": [
    {
     "name": "stdout",
     "output_type": "stream",
     "text": [
      "The provided listing appears to be Fake. \n",
      "\n",
      "Here are the reasons for this classification:\n",
      "1. Unrealistic promises: Phrases like \"Rare Opportunity,\" \"This property is a steal at this price,\" and \"Act fast before it's gone!\" are often used in fake listings to create a sense of urgency and pressure potential buyers into making quick decisions.\n",
      "2. Lack of specific details: The description lacks specific details about the property such as the exact location, square footage, specific amenities, or any unique features that would help distinguish it from other listings.\n",
      "3. High-pressure sales tactics: The listing repeatedly emphasizes the urgency to act fast and not miss out on the opportunity, which is a common tactic used in fake listings.\n",
      "4. Generic language: Phrases like \"Spectacular Views,\" \"Exclusive Beach Access,\" and \"Desirable Paradise Cove\" are generic and do not provide detailed information about the property.\n",
      "5. Limited parking and remote location: Mentioning limited parking and a remote location without providing further details can be a red flag for a fake listing as it lacks information that genuine listings would typically include.\n",
      "\n",
      "In conclusion, based on the characteristics mentioned above, the provided listing description is likely to be fake.\n"
     ]
    }
   ],
   "source": [
    "print(answer)"
   ]
  },
  {
   "cell_type": "code",
   "execution_count": 21,
   "metadata": {},
   "outputs": [
    {
     "data": {
      "text/plain": [
       "['__bool__',\n",
       " '__class__',\n",
       " '__delattr__',\n",
       " '__dir__',\n",
       " '__doc__',\n",
       " '__eq__',\n",
       " '__format__',\n",
       " '__ge__',\n",
       " '__getattribute__',\n",
       " '__getstate__',\n",
       " '__gt__',\n",
       " '__hash__',\n",
       " '__init__',\n",
       " '__init_subclass__',\n",
       " '__le__',\n",
       " '__lt__',\n",
       " '__ne__',\n",
       " '__new__',\n",
       " '__reduce__',\n",
       " '__reduce_ex__',\n",
       " '__repr__',\n",
       " '__setattr__',\n",
       " '__sizeof__',\n",
       " '__str__',\n",
       " '__subclasshook__']"
      ]
     },
     "execution_count": 21,
     "metadata": {},
     "output_type": "execute_result"
    }
   ],
   "source": [
    "dir(answer)"
   ]
  },
  {
   "cell_type": "code",
   "execution_count": null,
   "metadata": {},
   "outputs": [],
   "source": [
    "pip install --upgrade openai"
   ]
  },
  {
   "cell_type": "code",
   "execution_count": 5,
   "metadata": {},
   "outputs": [
    {
     "name": "stdout",
     "output_type": "stream",
     "text": [
      "Requirement already satisfied: streamlit in c:\\users\\slmss\\onedrive\\desktop\\sabin\\env\\lib\\site-packages (1.33.0)\n",
      "Requirement already satisfied: requests in c:\\users\\slmss\\onedrive\\desktop\\sabin\\env\\lib\\site-packages (2.31.0)\n",
      "Collecting beautifulsoup4\n",
      "  Obtaining dependency information for beautifulsoup4 from https://files.pythonhosted.org/packages/b1/fe/e8c672695b37eecc5cbf43e1d0638d88d66ba3a44c4d321c796f4e59167f/beautifulsoup4-4.12.3-py3-none-any.whl.metadata\n",
      "  Downloading beautifulsoup4-4.12.3-py3-none-any.whl.metadata (3.8 kB)\n",
      "Requirement already satisfied: pillow in c:\\users\\slmss\\onedrive\\desktop\\sabin\\env\\lib\\site-packages (10.3.0)\n",
      "Requirement already satisfied: numpy in c:\\users\\slmss\\onedrive\\desktop\\sabin\\env\\lib\\site-packages (1.26.4)\n",
      "Requirement already satisfied: altair<6,>=4.0 in c:\\users\\slmss\\onedrive\\desktop\\sabin\\env\\lib\\site-packages (from streamlit) (5.3.0)\n",
      "Requirement already satisfied: blinker<2,>=1.0.0 in c:\\users\\slmss\\onedrive\\desktop\\sabin\\env\\lib\\site-packages (from streamlit) (1.7.0)\n",
      "Requirement already satisfied: cachetools<6,>=4.0 in c:\\users\\slmss\\onedrive\\desktop\\sabin\\env\\lib\\site-packages (from streamlit) (5.3.3)\n",
      "Requirement already satisfied: click<9,>=7.0 in c:\\users\\slmss\\onedrive\\desktop\\sabin\\env\\lib\\site-packages (from streamlit) (8.1.7)\n",
      "Requirement already satisfied: packaging<25,>=16.8 in c:\\users\\slmss\\onedrive\\desktop\\sabin\\env\\lib\\site-packages (from streamlit) (24.0)\n",
      "Requirement already satisfied: pandas<3,>=1.3.0 in c:\\users\\slmss\\onedrive\\desktop\\sabin\\env\\lib\\site-packages (from streamlit) (2.2.2)\n",
      "Requirement already satisfied: protobuf<5,>=3.20 in c:\\users\\slmss\\onedrive\\desktop\\sabin\\env\\lib\\site-packages (from streamlit) (4.25.3)\n",
      "Requirement already satisfied: pyarrow>=7.0 in c:\\users\\slmss\\onedrive\\desktop\\sabin\\env\\lib\\site-packages (from streamlit) (16.0.0)\n",
      "Requirement already satisfied: rich<14,>=10.14.0 in c:\\users\\slmss\\onedrive\\desktop\\sabin\\env\\lib\\site-packages (from streamlit) (13.7.1)\n",
      "Requirement already satisfied: tenacity<9,>=8.1.0 in c:\\users\\slmss\\onedrive\\desktop\\sabin\\env\\lib\\site-packages (from streamlit) (8.2.3)\n",
      "Requirement already satisfied: toml<2,>=0.10.1 in c:\\users\\slmss\\onedrive\\desktop\\sabin\\env\\lib\\site-packages (from streamlit) (0.10.2)\n",
      "Requirement already satisfied: typing-extensions<5,>=4.3.0 in c:\\users\\slmss\\onedrive\\desktop\\sabin\\env\\lib\\site-packages (from streamlit) (4.11.0)\n",
      "Requirement already satisfied: gitpython!=3.1.19,<4,>=3.0.7 in c:\\users\\slmss\\onedrive\\desktop\\sabin\\env\\lib\\site-packages (from streamlit) (3.1.43)\n",
      "Requirement already satisfied: pydeck<1,>=0.8.0b4 in c:\\users\\slmss\\onedrive\\desktop\\sabin\\env\\lib\\site-packages (from streamlit) (0.8.1b0)\n",
      "Requirement already satisfied: tornado<7,>=6.0.3 in c:\\users\\slmss\\onedrive\\desktop\\sabin\\env\\lib\\site-packages (from streamlit) (6.4)\n",
      "Requirement already satisfied: watchdog>=2.1.5 in c:\\users\\slmss\\onedrive\\desktop\\sabin\\env\\lib\\site-packages (from streamlit) (4.0.0)\n",
      "Requirement already satisfied: charset-normalizer<4,>=2 in c:\\users\\slmss\\onedrive\\desktop\\sabin\\env\\lib\\site-packages (from requests) (3.3.2)\n",
      "Requirement already satisfied: idna<4,>=2.5 in c:\\users\\slmss\\onedrive\\desktop\\sabin\\env\\lib\\site-packages (from requests) (3.7)\n",
      "Requirement already satisfied: urllib3<3,>=1.21.1 in c:\\users\\slmss\\onedrive\\desktop\\sabin\\env\\lib\\site-packages (from requests) (2.2.1)\n",
      "Requirement already satisfied: certifi>=2017.4.17 in c:\\users\\slmss\\onedrive\\desktop\\sabin\\env\\lib\\site-packages (from requests) (2024.2.2)\n",
      "Collecting soupsieve>1.2 (from beautifulsoup4)\n",
      "  Obtaining dependency information for soupsieve>1.2 from https://files.pythonhosted.org/packages/4c/f3/038b302fdfbe3be7da016777069f26ceefe11a681055ea1f7817546508e3/soupsieve-2.5-py3-none-any.whl.metadata\n",
      "  Downloading soupsieve-2.5-py3-none-any.whl.metadata (4.7 kB)\n",
      "Requirement already satisfied: jinja2 in c:\\users\\slmss\\onedrive\\desktop\\sabin\\env\\lib\\site-packages (from altair<6,>=4.0->streamlit) (3.1.3)\n",
      "Requirement already satisfied: jsonschema>=3.0 in c:\\users\\slmss\\onedrive\\desktop\\sabin\\env\\lib\\site-packages (from altair<6,>=4.0->streamlit) (4.21.1)\n",
      "Requirement already satisfied: toolz in c:\\users\\slmss\\onedrive\\desktop\\sabin\\env\\lib\\site-packages (from altair<6,>=4.0->streamlit) (0.12.1)\n",
      "Requirement already satisfied: colorama in c:\\users\\slmss\\onedrive\\desktop\\sabin\\env\\lib\\site-packages (from click<9,>=7.0->streamlit) (0.4.6)\n",
      "Requirement already satisfied: gitdb<5,>=4.0.1 in c:\\users\\slmss\\onedrive\\desktop\\sabin\\env\\lib\\site-packages (from gitpython!=3.1.19,<4,>=3.0.7->streamlit) (4.0.11)\n",
      "Requirement already satisfied: python-dateutil>=2.8.2 in c:\\users\\slmss\\onedrive\\desktop\\sabin\\env\\lib\\site-packages (from pandas<3,>=1.3.0->streamlit) (2.9.0.post0)\n",
      "Requirement already satisfied: pytz>=2020.1 in c:\\users\\slmss\\onedrive\\desktop\\sabin\\env\\lib\\site-packages (from pandas<3,>=1.3.0->streamlit) (2024.1)\n",
      "Requirement already satisfied: tzdata>=2022.7 in c:\\users\\slmss\\onedrive\\desktop\\sabin\\env\\lib\\site-packages (from pandas<3,>=1.3.0->streamlit) (2024.1)\n",
      "Requirement already satisfied: markdown-it-py>=2.2.0 in c:\\users\\slmss\\onedrive\\desktop\\sabin\\env\\lib\\site-packages (from rich<14,>=10.14.0->streamlit) (3.0.0)\n",
      "Requirement already satisfied: pygments<3.0.0,>=2.13.0 in c:\\users\\slmss\\onedrive\\desktop\\sabin\\env\\lib\\site-packages (from rich<14,>=10.14.0->streamlit) (2.17.2)\n",
      "Requirement already satisfied: smmap<6,>=3.0.1 in c:\\users\\slmss\\onedrive\\desktop\\sabin\\env\\lib\\site-packages (from gitdb<5,>=4.0.1->gitpython!=3.1.19,<4,>=3.0.7->streamlit) (5.0.1)\n",
      "Requirement already satisfied: MarkupSafe>=2.0 in c:\\users\\slmss\\onedrive\\desktop\\sabin\\env\\lib\\site-packages (from jinja2->altair<6,>=4.0->streamlit) (2.1.5)\n",
      "Requirement already satisfied: attrs>=22.2.0 in c:\\users\\slmss\\onedrive\\desktop\\sabin\\env\\lib\\site-packages (from jsonschema>=3.0->altair<6,>=4.0->streamlit) (23.2.0)\n",
      "Requirement already satisfied: jsonschema-specifications>=2023.03.6 in c:\\users\\slmss\\onedrive\\desktop\\sabin\\env\\lib\\site-packages (from jsonschema>=3.0->altair<6,>=4.0->streamlit) (2023.12.1)\n",
      "Requirement already satisfied: referencing>=0.28.4 in c:\\users\\slmss\\onedrive\\desktop\\sabin\\env\\lib\\site-packages (from jsonschema>=3.0->altair<6,>=4.0->streamlit) (0.34.0)\n",
      "Requirement already satisfied: rpds-py>=0.7.1 in c:\\users\\slmss\\onedrive\\desktop\\sabin\\env\\lib\\site-packages (from jsonschema>=3.0->altair<6,>=4.0->streamlit) (0.18.0)\n",
      "Requirement already satisfied: mdurl~=0.1 in c:\\users\\slmss\\onedrive\\desktop\\sabin\\env\\lib\\site-packages (from markdown-it-py>=2.2.0->rich<14,>=10.14.0->streamlit) (0.1.2)\n",
      "Requirement already satisfied: six>=1.5 in c:\\users\\slmss\\onedrive\\desktop\\sabin\\env\\lib\\site-packages (from python-dateutil>=2.8.2->pandas<3,>=1.3.0->streamlit) (1.16.0)\n",
      "Downloading beautifulsoup4-4.12.3-py3-none-any.whl (147 kB)\n",
      "   ---------------------------------------- 0.0/147.9 kB ? eta -:--:--\n",
      "   ---------------------------------------- 0.0/147.9 kB ? eta -:--:--\n",
      "   -- ------------------------------------- 10.2/147.9 kB ? eta -:--:--\n",
      "   -- ------------------------------------- 10.2/147.9 kB ? eta -:--:--\n",
      "   ---------------- ---------------------- 61.4/147.9 kB 469.7 kB/s eta 0:00:01\n",
      "   -------------------------------------- - 143.4/147.9 kB 1.1 MB/s eta 0:00:01\n",
      "   -------------------------------------- - 143.4/147.9 kB 1.1 MB/s eta 0:00:01\n",
      "   -------------------------------------- - 143.4/147.9 kB 1.1 MB/s eta 0:00:01\n",
      "   -------------------------------------- - 143.4/147.9 kB 1.1 MB/s eta 0:00:01\n",
      "   -------------------------------------- 147.9/147.9 kB 441.3 kB/s eta 0:00:00\n",
      "Downloading soupsieve-2.5-py3-none-any.whl (36 kB)\n",
      "Installing collected packages: soupsieve, beautifulsoup4\n",
      "Successfully installed beautifulsoup4-4.12.3 soupsieve-2.5\n",
      "Note: you may need to restart the kernel to use updated packages.\n"
     ]
    }
   ],
   "source": [
    "pip install streamlit requests beautifulsoup4 pillow numpy"
   ]
  },
  {
   "cell_type": "code",
   "execution_count": 6,
   "metadata": {},
   "outputs": [],
   "source": [
    "import streamlit as st\n",
    "import requests\n",
    "from bs4 import BeautifulSoup\n",
    "from PIL import Image\n",
    "import numpy as np\n"
   ]
  },
  {
   "cell_type": "code",
   "execution_count": 9,
   "metadata": {},
   "outputs": [
    {
     "name": "stdout",
     "output_type": "stream",
     "text": [
      "QR Code Link to This Post\n",
      "\n",
      "\n",
      "Call Apartment Guys at 773-549-3474 and ask for reference #2203127. Enjoy this bright GROUND FLOOR (not sunken) unit with hardwood floors, a dishwasher, central air, and a private outdoor patio for your morning coffee. Most pets are welcome, and you'll be just 3-4 blocks to the Red and Brown line trains for an easy commute..***Photos may be of a similar units or examples of  units****For faster response best to call or text 773-549-3474 with reference #2203127\n"
     ]
    }
   ],
   "source": [
    "print(scrape_job_description('https://chicago.craigslist.org/chc/apa/d/chicago-super-affordable-apartment-in/7739654557.html'))"
   ]
  }
 ],
 "metadata": {
  "kernelspec": {
   "display_name": "env",
   "language": "python",
   "name": "python3"
  },
  "language_info": {
   "codemirror_mode": {
    "name": "ipython",
    "version": 3
   },
   "file_extension": ".py",
   "mimetype": "text/x-python",
   "name": "python",
   "nbconvert_exporter": "python",
   "pygments_lexer": "ipython3",
   "version": "3.11.5"
  }
 },
 "nbformat": 4,
 "nbformat_minor": 2
}
